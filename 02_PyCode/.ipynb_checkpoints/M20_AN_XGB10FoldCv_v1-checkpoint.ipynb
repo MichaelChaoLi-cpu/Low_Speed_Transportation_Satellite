{
 "cells": [
  {
   "cell_type": "markdown",
   "id": "c62d0399-4a09-47da-905f-3eb95081956e",
   "metadata": {},
   "source": [
    "# XGB 10-fold CV"
   ]
  },
  {
   "cell_type": "code",
   "execution_count": 1,
   "id": "616cf4f7-c355-44c3-bd30-997952da2fcc",
   "metadata": {},
   "outputs": [
    {
     "data": {
      "text/plain": [
       "'/mnt/g/D-storage/11_Article/03_RStudio/02_PyCode'"
      ]
     },
     "execution_count": 1,
     "metadata": {},
     "output_type": "execute_result"
    }
   ],
   "source": [
    "%pwd"
   ]
  },
  {
   "cell_type": "code",
   "execution_count": 2,
   "id": "4e471381-6cd1-4806-b219-915c89af1833",
   "metadata": {},
   "outputs": [
    {
     "name": "stdout",
     "output_type": "stream",
     "text": [
      "/mnt/g/D-storage/11_Article/03_RStudio\n"
     ]
    },
    {
     "name": "stderr",
     "output_type": "stream",
     "text": [
      "/home/linux/anaconda3/envs/tf/lib/python3.9/site-packages/IPython/core/magics/osm.py:417: UserWarning: using dhist requires you to install the `pickleshare` library.\n",
      "  self.shell.db['dhist'] = compress_dhist(dhist)[-100:]\n"
     ]
    }
   ],
   "source": [
    "%cd .."
   ]
  },
  {
   "cell_type": "code",
   "execution_count": null,
   "id": "5a06e1dd-b6c3-471d-b04a-4873bad93a08",
   "metadata": {},
   "outputs": [],
   "source": []
  },
  {
   "cell_type": "markdown",
   "id": "64cd12be-3188-45e3-9e1e-6d6ca2ba9b69",
   "metadata": {},
   "source": [
    "## Import Package"
   ]
  },
  {
   "cell_type": "code",
   "execution_count": 12,
   "id": "a70d89ea-aeac-4f44-8b9c-01aeaaffc557",
   "metadata": {},
   "outputs": [],
   "source": [
    "import numpy as np\n",
    "import os\n",
    "import pandas as pd\n",
    "import pyreadr\n",
    "import xgboost as xgb\n",
    "\n",
    "from sklearn.model_selection import cross_val_score, KFold\n",
    "from sklearn.metrics import r2_score"
   ]
  },
  {
   "cell_type": "code",
   "execution_count": null,
   "id": "f0f68d5c-900d-443e-8621-fac6869eb6e3",
   "metadata": {},
   "outputs": [],
   "source": []
  },
  {
   "cell_type": "code",
   "execution_count": null,
   "id": "0369c2f4-a0bf-41a1-a761-8358c883ae1f",
   "metadata": {},
   "outputs": [],
   "source": []
  },
  {
   "cell_type": "markdown",
   "id": "fba2e07c-eacc-468e-887f-1a51b87c8daa",
   "metadata": {},
   "source": [
    "## Run"
   ]
  },
  {
   "cell_type": "code",
   "execution_count": 8,
   "id": "8346c4d2-9cfd-4242-a60f-0a7cf790a7f7",
   "metadata": {},
   "outputs": [],
   "source": [
    "def getXandStanYnoah():\n",
    "    df = pd.read_csv(\"04_Data/98_DatasetWithNoah.csv\")\n",
    "    df.set_index(['GridID', 'time'], inplace=True)\n",
    "    df.dropna(inplace=True)\n",
    "    df_output = df.copy()\n",
    "    aim_variable_list = ['lowSpeedDensity',  \n",
    "                         'tair', 'psurf', 'qair', 'wind', 'rainf',\n",
    "                         'NTL', 'NDVI', 'PBLH']\n",
    "    for variable_name in aim_variable_list:\n",
    "        df_output[variable_name] = df_output.groupby('GridID')[variable_name].transform(lambda x: (x - x.mean()) / x.std())\n",
    "    \n",
    "    X = df_output.iloc[:,1:df.shape[1]].copy()\n",
    "    y = df_output.iloc[:,0:1].copy()\n",
    "\n",
    "    return df_output, X, y"
   ]
  },
  {
   "cell_type": "code",
   "execution_count": 9,
   "id": "3b0a477c-aaf8-4652-a4b2-9379bfadcdda",
   "metadata": {},
   "outputs": [],
   "source": [
    "df_output, X, y = getXandStanYnoah()"
   ]
  },
  {
   "cell_type": "code",
   "execution_count": 20,
   "id": "a1176f2e-19fa-46c2-9231-cce042355382",
   "metadata": {},
   "outputs": [],
   "source": [
    "xgb_reg = xgb.XGBRegressor(objective=\"reg:squarederror\", n_estimators = 3000, learning_rate = 0.3,\n",
    "                         max_depth = 17, min_child_weight = 2, gamma = 0, \n",
    "                         subsample = 1, colsample_bytree = 0.8, reg_alpha = 0.2,\n",
    "                         reg_lambda = 0.5, device = 'cuda')\n",
    "\n",
    "# Define 10-fold Cross-Validation\n",
    "kf = KFold(n_splits=10, shuffle=True, random_state=42)"
   ]
  },
  {
   "cell_type": "code",
   "execution_count": 21,
   "id": "06f76b37-9e0f-4639-b996-f380368b0f4b",
   "metadata": {},
   "outputs": [],
   "source": [
    "# Store R² scores\n",
    "train_r2_scores = []\n",
    "val_r2_scores = []"
   ]
  },
  {
   "cell_type": "code",
   "execution_count": 22,
   "id": "66f55d71-092c-4835-b6a0-afd0585c350b",
   "metadata": {},
   "outputs": [],
   "source": [
    "for train_index, val_index in kf.split(X):\n",
    "    X_train, X_val = X.iloc[train_index,:], X.iloc[val_index, :]\n",
    "    y_train, y_val = y.iloc[train_index], y.iloc[val_index]\n",
    "\n",
    "    # Fit model on training data\n",
    "    xgb_reg.fit(X_train, y_train)\n",
    "\n",
    "    # Predict on both training and validation data\n",
    "    y_train_pred = xgb_reg.predict(X_train)\n",
    "    y_val_pred = xgb_reg.predict(X_val)\n",
    "\n",
    "    # Compute R² scores\n",
    "    train_r2 = r2_score(y_train, y_train_pred)\n",
    "    val_r2 = r2_score(y_val, y_val_pred)\n",
    "\n",
    "    # Store scores\n",
    "    train_r2_scores.append(train_r2)\n",
    "    val_r2_scores.append(val_r2)"
   ]
  },
  {
   "cell_type": "code",
   "execution_count": 23,
   "id": "1da9a5e2-3fbb-4858-b046-2b7d2346beb4",
   "metadata": {},
   "outputs": [
    {
     "name": "stdout",
     "output_type": "stream",
     "text": [
      "Training R² Scores per Fold: [0.9994272750883809, 0.9993651428207633, 0.9993987598584928, 0.9993743801626253, 0.9994437249773318, 0.9994100251114929, 0.9994021840348112, 0.9993986901215401, 0.9994609266005192, 0.9994509934314462]\n",
      "Validation R² Scores per Fold: [0.8807305887760921, 0.8821775571172079, 0.8827847970647351, 0.8850222283984392, 0.8849706701055531, 0.8840197392149112, 0.8837678079980943, 0.8863258605204244, 0.8850162673642769, 0.8817167255078056]\n",
      "Mean Training R²: 0.9994\n",
      "Mean Validation R²: 0.8837\n",
      "Standard Deviation of Validation R²: 0.0017\n"
     ]
    }
   ],
   "source": [
    "# Print Results\n",
    "print(f\"Training R² Scores per Fold: {train_r2_scores}\")\n",
    "print(f\"Validation R² Scores per Fold: {val_r2_scores}\")\n",
    "print(f\"Mean Training R²: {np.mean(train_r2_scores):.4f}\")\n",
    "print(f\"Mean Validation R²: {np.mean(val_r2_scores):.4f}\")\n",
    "print(f\"Standard Deviation of Validation R²: {np.std(val_r2_scores):.4f}\")"
   ]
  },
  {
   "cell_type": "code",
   "execution_count": null,
   "id": "ef8d365c-6216-4ed9-9661-2ccbe95efa13",
   "metadata": {},
   "outputs": [],
   "source": []
  }
 ],
 "metadata": {
  "kernelspec": {
   "display_name": "Python 3 (ipykernel)",
   "language": "python",
   "name": "python3"
  },
  "language_info": {
   "codemirror_mode": {
    "name": "ipython",
    "version": 3
   },
   "file_extension": ".py",
   "mimetype": "text/x-python",
   "name": "python",
   "nbconvert_exporter": "python",
   "pygments_lexer": "ipython3",
   "version": "3.9.19"
  }
 },
 "nbformat": 4,
 "nbformat_minor": 5
}
